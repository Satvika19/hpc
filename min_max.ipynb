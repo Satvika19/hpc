{
 "cells": [
  {
   "cell_type": "code",
   "execution_count": 3,
   "id": "566033be",
   "metadata": {},
   "outputs": [
    {
     "name": "stdout",
     "output_type": "stream",
     "text": [
      "Enter total number of elements: 4\n",
      "Enter elements:\n",
      "5\n",
      "2\n",
      "8\n",
      "1\n",
      "Minimum value: 1\n",
      "Maximum value: 8\n",
      "Sum: 16\n",
      "Average: 4.0\n"
     ]
    }
   ],
   "source": [
    "import sys\n",
    "\n",
    "def min_reduction(arr):\n",
    "    min_value = sys.maxsize\n",
    "    for num in arr:\n",
    "        if num < min_value:\n",
    "            min_value = num\n",
    "    print(\"Minimum value:\", min_value)\n",
    "\n",
    "def max_reduction(arr):\n",
    "    max_value = -sys.maxsize - 1\n",
    "    for num in arr:\n",
    "        if num > max_value:\n",
    "            max_value = num\n",
    "    print(\"Maximum value:\", max_value)\n",
    "\n",
    "def sum_reduction(arr):\n",
    "    total_sum = 0\n",
    "    for num in arr:\n",
    "        total_sum += num\n",
    "    print(\"Sum:\", total_sum)\n",
    "\n",
    "def average_reduction(arr):\n",
    "    total_sum = 0\n",
    "    for num in arr:\n",
    "        total_sum += num\n",
    "    average = total_sum / len(arr)\n",
    "    print(\"Average:\", average)\n",
    "\n",
    "if __name__ == \"__main__\":\n",
    "    n = int(input(\"Enter total number of elements: \"))\n",
    "    arr = []\n",
    "    print(\"Enter elements:\")\n",
    "    for _ in range(n):\n",
    "        arr.append(int(input()))\n",
    "    \n",
    "    min_reduction(arr)\n",
    "    max_reduction(arr)\n",
    "    sum_reduction(arr)\n",
    "    average_reduction(arr)\n"
   ]
  },
  {
   "cell_type": "code",
   "execution_count": 2,
   "id": "ac20a632",
   "metadata": {},
   "outputs": [
    {
     "name": "stdout",
     "output_type": "stream",
     "text": [
      "Enter total number of elements: 4\n",
      "Enter elements:\n",
      "5\n",
      "2\n",
      "8\n",
      "1\n",
      "Minimum value: 1\n",
      "Maximum value: 8\n",
      "Sum: 16\n",
      "Average: 5.333333333333333\n"
     ]
    }
   ],
   "source": [
    "import numpy as np\n",
    "\n",
    "def min_reduction(arr):\n",
    "    min_value = np.iinfo(np.int32).max\n",
    "    for num in arr:\n",
    "        if num < min_value:\n",
    "            min_value = num\n",
    "    print(\"Minimum value:\", min_value)\n",
    "\n",
    "def max_reduction(arr):\n",
    "    max_value = np.iinfo(np.int32).min\n",
    "    for num in arr:\n",
    "        if num > max_value:\n",
    "            max_value = num\n",
    "    print(\"Maximum value:\", max_value)\n",
    "\n",
    "def sum_reduction(arr):\n",
    "    total_sum = 0\n",
    "    for num in arr:\n",
    "        total_sum += num\n",
    "    print(\"Sum:\", total_sum)\n",
    "\n",
    "def average_reduction(arr):\n",
    "    total_sum = 0\n",
    "    for num in arr:\n",
    "        total_sum += num\n",
    "    average = total_sum / (len(arr) - 1)\n",
    "    print(\"Average:\", average)\n",
    "\n",
    "if __name__ == \"__main__\":\n",
    "    n = int(input(\"Enter total number of elements: \"))\n",
    "    arr = []\n",
    "    print(\"Enter elements:\")\n",
    "    for _ in range(n):\n",
    "        arr.append(int(input()))\n",
    "\n",
    "    min_reduction(arr)\n",
    "    max_reduction(arr)\n",
    "    sum_reduction(arr)\n",
    "    average_reduction(arr)\n"
   ]
  },
  {
   "cell_type": "code",
   "execution_count": null,
   "id": "c63d1d67",
   "metadata": {},
   "outputs": [],
   "source": []
  }
 ],
 "metadata": {
  "kernelspec": {
   "display_name": "Python 3 (ipykernel)",
   "language": "python",
   "name": "python3"
  },
  "language_info": {
   "codemirror_mode": {
    "name": "ipython",
    "version": 3
   },
   "file_extension": ".py",
   "mimetype": "text/x-python",
   "name": "python",
   "nbconvert_exporter": "python",
   "pygments_lexer": "ipython3",
   "version": "3.10.7"
  }
 },
 "nbformat": 4,
 "nbformat_minor": 5
}
